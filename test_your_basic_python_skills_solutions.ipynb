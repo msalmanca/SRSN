{
 "cells": [
  {
   "cell_type": "markdown",
   "id": "cd9ae97f",
   "metadata": {},
   "source": [
    "# test_your_basic_python_skills solutions"
   ]
  },
  {
   "cell_type": "code",
   "execution_count": 1,
   "id": "b6908968",
   "metadata": {},
   "outputs": [],
   "source": [
    "# Take values of the length & breadth of a rectangle from user input and check if it is square or not."
   ]
  },
  {
   "cell_type": "code",
   "execution_count": 2,
   "id": "24539754",
   "metadata": {},
   "outputs": [
    {
     "name": "stdout",
     "output_type": "stream",
     "text": [
      "Enter lenght:7\n",
      "Enter breadth:7\n",
      "It is square.\n"
     ]
    }
   ],
   "source": [
    "length = int(input(\"Enter lenght:\"))\n",
    "breadth = int(input(\"Enter breadth:\"))\n",
    "\n",
    "if (length == breadth):\n",
    "    print(\"It is square.\")\n",
    "else:\n",
    "    print(\"It is not square.\")"
   ]
  },
  {
   "cell_type": "code",
   "execution_count": 3,
   "id": "7c37edfd",
   "metadata": {},
   "outputs": [],
   "source": [
    "# Take three integer values from the user and print the greatest among them."
   ]
  },
  {
   "cell_type": "code",
   "execution_count": 4,
   "id": "ba0c066d",
   "metadata": {},
   "outputs": [
    {
     "name": "stdout",
     "output_type": "stream",
     "text": [
      "Enter first number: 47\n",
      "Enter second number: 61\n",
      "Enter third number: 56\n",
      "The largest number is: 61\n"
     ]
    }
   ],
   "source": [
    "# take three numbers from user\n",
    "num1 = int(input(\"Enter first number: \"))\n",
    "num2 = int(input(\"Enter second number: \"))\n",
    "num3 = int(input(\"Enter third number: \"))\n",
    "\n",
    "if (num1 >= num2) and (num1 >= num3):\n",
    "   largest = num1\n",
    "elif (num2 >= num1) and (num2 >= num3):\n",
    "   largest = num2\n",
    "else:\n",
    "   largest = num3\n",
    "\n",
    "print(\"The largest number is:\", largest)"
   ]
  },
  {
   "cell_type": "code",
   "execution_count": 5,
   "id": "d6473bba",
   "metadata": {},
   "outputs": [],
   "source": [
    "# A student will not be allowed to sit in an exam if his/her attendance is less than 75%.\n",
    "## assuming, classes held = 100; or we would take input (number of classes held & attendance) and perform calculations."
   ]
  },
  {
   "cell_type": "code",
   "execution_count": 6,
   "id": "7a2bf568",
   "metadata": {},
   "outputs": [
    {
     "name": "stdout",
     "output_type": "stream",
     "text": [
      "Enter number of classes attended: 96\n",
      "Student attandance is: 96.0\n",
      "Allowed to sit in Exam.\n"
     ]
    }
   ],
   "source": [
    "attendance_threashold = 75\n",
    "classes_held = 100 # change this number as needed\n",
    "# classes_held = int(input(\"Enter number of classes held: \")) #taking number of classes held as input\n",
    "classes_attended = int(input(\"Enter number of classes attended: \"))    #taking number of classes attended as input\n",
    "\n",
    "# validate classes held vs attended\n",
    "if classes_attended > classes_held:\n",
    "   raise ValueError(\"Sorry, no classes attended must not more that classes held!\")\n",
    "\n",
    "#calculating percentage of classes attended\n",
    "attended = round((classes_attended/classes_held) * 100,2)\n",
    "\n",
    "#printing the percentage of classes attended\n",
    "print(\"Student attandance is:\",attended)\n",
    "\n",
    "#checking whether attandance is greater than 75 and printing the same\n",
    "if attended>attendance_threashold:\n",
    "   print(\"Allowed to sit in Exam.\")\n",
    "else:\n",
    "   print(\"Not allowed to sit in Exam.\")"
   ]
  },
  {
   "cell_type": "code",
   "execution_count": 7,
   "id": "9ec9dc92",
   "metadata": {},
   "outputs": [],
   "source": [
    "# A school has the following rules for the grading system:\n",
    "# Below 25 – F, 25 to 44 – E, 45 to 49 – D, 50 to 59 – C, 60 to 79 – B, 80 to 89 - A, Above 90 - A+\n",
    "# Now, Ask the user to enter marks and print the corresponding grade."
   ]
  },
  {
   "cell_type": "code",
   "execution_count": 8,
   "id": "3b7d5638",
   "metadata": {},
   "outputs": [
    {
     "name": "stdout",
     "output_type": "stream",
     "text": [
      "Enter student's marks:79\n",
      "Student grade: 'B'\n"
     ]
    }
   ],
   "source": [
    "marks=int(input(\"Enter student's marks:\"))\n",
    "\n",
    "# validate classes held vs attended\n",
    "if marks < 0:\n",
    "   raise ValueError(\"Sorry, marks must not be negetive!\")\n",
    "\n",
    "if(marks<25):                   #<25\n",
    "    print(\"Student grade: 'F'\")\n",
    "elif(marks>=25 and marks<45):   #<45\n",
    "    print(\"Student grade: 'E'\")\n",
    "elif(marks>=45 and marks<50):   #<50\n",
    "    print(\"Student grade: 'D'\")\n",
    "elif(marks>=50 and marks<60):   #<60\n",
    "    print(\"Student grade: 'C'\")\n",
    "elif(marks>=60 and marks<80):   #<80\n",
    "    print(\"Student grade: 'B'\")\n",
    "elif(marks>=80 and marks<91):   #<91\n",
    "    print(\"Student grade: 'A'\")\n",
    "elif(marks>90):                 #>=91\n",
    "    print(\"Student grade: 'A+'\")"
   ]
  },
  {
   "cell_type": "code",
   "execution_count": 9,
   "id": "a2f9f940",
   "metadata": {},
   "outputs": [
    {
     "data": {
      "text/plain": [
       "'\\n1 2 3 4 5 6 7\\n1 2 3 4 5 6\\n1 2 3 4 5\\n1 2 3 4\\n'"
      ]
     },
     "execution_count": 9,
     "metadata": {},
     "output_type": "execute_result"
    }
   ],
   "source": [
    "# Print the following pattern using for and while loop.\n",
    "'''\n",
    "1 2 3 4 5 6 7\n",
    "1 2 3 4 5 6\n",
    "1 2 3 4 5\n",
    "1 2 3 4\n",
    "'''"
   ]
  },
  {
   "cell_type": "code",
   "execution_count": 10,
   "id": "1538161b",
   "metadata": {},
   "outputs": [
    {
     "name": "stdout",
     "output_type": "stream",
     "text": [
      "1 2 3 4 5 6 7 \r\n",
      "1 2 3 4 5 6 \r\n",
      "1 2 3 4 5 \r\n",
      "1 2 3 4 "
     ]
    }
   ],
   "source": [
    "rows = 4 # number of rows\n",
    "cols = 7 # number of cols \n",
    "\n",
    "for i in range(cols, 0, -1):\n",
    "    for j in range(1, i+1):\n",
    "        print(j, end=\" \")\n",
    "    if(i==rows): break\n",
    "    print(\"\\r\")"
   ]
  },
  {
   "cell_type": "code",
   "execution_count": 11,
   "id": "81dda045",
   "metadata": {},
   "outputs": [],
   "source": [
    "# Display numbers from -100 to -10 using for loop."
   ]
  },
  {
   "cell_type": "code",
   "execution_count": 12,
   "id": "5409630f",
   "metadata": {},
   "outputs": [
    {
     "name": "stdout",
     "output_type": "stream",
     "text": [
      "Solution: #1\n",
      "-100 -99 -98 -97 -96 -95 -94 -93 -92 -91 -90 -89 -88 -87 -86 -85 -84 -83 -82 -81 -80 -79 -78 -77 -76 -75 -74 -73 -72 -71 -70 -69 -68 -67 -66 -65 -64 -63 -62 -61 -60 -59 -58 -57 -56 -55 -54 -53 -52 -51 -50 -49 -48 -47 -46 -45 -44 -43 -42 -41 -40 -39 -38 -37 -36 -35 -34 -33 -32 -31 -30 -29 -28 -27 -26 -25 -24 -23 -22 -21 -20 -19 -18 -17 -16 -15 -14 -13 -12 -11 -10\n",
      "\n",
      "Solution: #2\n",
      "-100 -99 -98 -97 -96 -95 -94 -93 -92 -91 -90 -89 -88 -87 -86 -85 -84 -83 -82 -81 -80 -79 -78 -77 -76 -75 -74 -73 -72 -71 -70 -69 -68 -67 -66 -65 -64 -63 -62 -61 -60 -59 -58 -57 -56 -55 -54 -53 -52 -51 -50 -49 -48 -47 -46 -45 -44 -43 -42 -41 -40 -39 -38 -37 -36 -35 -34 -33 -32 -31 -30 -29 -28 -27 -26 -25 -24 -23 -22 -21 -20 -19 -18 -17 -16 -15 -14 -13 -12 -11 -10 "
     ]
    }
   ],
   "source": [
    "start, end = -100, -10\n",
    "#Solution:1\n",
    "print(\"Solution: #1\")\n",
    "res = ([i for i in range(start,end+1) if start<0])\n",
    "print(*res)\n",
    "\n",
    "#Solution:2\n",
    "print(\"\\nSolution: #2\")\n",
    "for num in range(start, end + 1):\n",
    "    if num < 0:\n",
    "        print(num, end = \" \")"
   ]
  },
  {
   "cell_type": "code",
   "execution_count": 13,
   "id": "9b6152f7",
   "metadata": {},
   "outputs": [],
   "source": [
    "# Write a program to sum all prime numbers within a range of 10 to 1000."
   ]
  },
  {
   "cell_type": "code",
   "execution_count": 14,
   "id": "31597154",
   "metadata": {},
   "outputs": [
    {
     "name": "stdout",
     "output_type": "stream",
     "text": [
      "Prime numbers between 10 and 1000 are:\n",
      "11 13 17 19 23 29 31 37 41 43 47 53 59 61 67 71 73 79 83 89 97 101 103 107 109 113 127 131 137 139 149 151 157 163 167 173 179 181 191 193 197 199 211 223 227 229 233 239 241 251 257 263 269 271 277 281 283 293 307 311 313 317 331 337 347 349 353 359 367 373 379 383 389 397 401 409 419 421 431 433 439 443 449 457 461 463 467 479 487 491 499 503 509 521 523 541 547 557 563 569 571 577 587 593 599 601 607 613 617 619 631 641 643 647 653 659 661 673 677 683 691 701 709 719 727 733 739 743 751 757 761 769 773 787 797 809 811 821 823 827 829 839 853 857 859 863 877 881 883 887 907 911 919 929 937 941 947 953 967 971 977 983 991 997 "
     ]
    }
   ],
   "source": [
    "lower = 10    #int(input(\"Enter lower Limit:\"))\n",
    "upper = 1000  #int(input(\"Enter Upper Limit:\"))\n",
    "\n",
    "print(\"Prime numbers between\", lower, \"and\", upper, \"are:\")\n",
    "\n",
    "for num in range(lower, upper + 1):\n",
    "   # all prime numbers are greater than 1\n",
    "   if num > 1:\n",
    "       for i in range(2, num):\n",
    "           if (num % i) == 0:\n",
    "               break\n",
    "       else:\n",
    "           print(num, end = ' ')"
   ]
  },
  {
   "cell_type": "code",
   "execution_count": 15,
   "id": "317860d2",
   "metadata": {},
   "outputs": [],
   "source": [
    "# Find the factorial of an n!"
   ]
  },
  {
   "cell_type": "code",
   "execution_count": 16,
   "id": "b706178c",
   "metadata": {},
   "outputs": [
    {
     "name": "stdout",
     "output_type": "stream",
     "text": [
      "Enter a number to find factorial: 7\n",
      "The factorial of  7 is: 5040\n",
      "The factorial of 7 is 5040\n"
     ]
    }
   ],
   "source": [
    "def factorial(x):\n",
    "    if x == 0 or x == 1:\n",
    "        return 1\n",
    "    else:\n",
    "        return (x * factorial(x-1))\n",
    "    \n",
    "def factorial2(x):\n",
    "    res=1\n",
    "    if x < 0:\n",
    "       print(\"Sorry, factorial does not exist for negative numbers\")\n",
    "    elif x == 0:\n",
    "       print(\"The factorial of 0 is 1\")\n",
    "    else:\n",
    "       for i in range(1,x + 1):\n",
    "           res = res*i\n",
    "       print(\"The factorial of\",x,\"is\",res)\n",
    "\n",
    "\n",
    "#Solution:1 (recursion)\n",
    "#num = 3\n",
    "num = int(input(\"Enter a number to find factorial: \"))\n",
    "# call the factorial function\n",
    "result = factorial(num)\n",
    "print(\"The factorial of \", num, \"is:\", result)\n",
    "\n",
    "#Solution:2 (loop)\n",
    "factorial2(num)"
   ]
  },
  {
   "cell_type": "code",
   "execution_count": 17,
   "id": "3b63af17",
   "metadata": {},
   "outputs": [],
   "source": [
    "# Reverse a given integer number 27956240710."
   ]
  },
  {
   "cell_type": "code",
   "execution_count": 18,
   "id": "2455f386",
   "metadata": {},
   "outputs": [
    {
     "name": "stdout",
     "output_type": "stream",
     "text": [
      "01704265972\n"
     ]
    }
   ],
   "source": [
    "num = 27956240710\n",
    "#num = int(input(\"Enter a number to find reverse: \"))\n",
    "print(str(num)[::-1])"
   ]
  },
  {
   "cell_type": "code",
   "execution_count": 19,
   "id": "17aea77d",
   "metadata": {},
   "outputs": [],
   "source": [
    "# Print the following pattern using for and while loop."
   ]
  },
  {
   "cell_type": "code",
   "execution_count": 20,
   "id": "eb44e7f9",
   "metadata": {},
   "outputs": [
    {
     "name": "stdout",
     "output_type": "stream",
     "text": [
      "USING FOR LOOP\n",
      "--------------------\n",
      "# # # \n",
      "# # # # \n",
      "# # # \n",
      "# # \n",
      "\n",
      "USING WHILE LOOP\n",
      "--------------------\n",
      "# # # \n",
      "# # # # \n",
      "# # # \n",
      "# # \n"
     ]
    }
   ],
   "source": [
    "n = 4 # Please DO NOT change it... Just not sure about the serise/pattern '3,4,3,2'... what's the next numbers???\n",
    "\n",
    "# FOR LOOP\n",
    "print('USING FOR LOOP')\n",
    "print('-'*20)\n",
    "# upper half\n",
    "i = 3\n",
    "for i in range(i,n+1):\n",
    "    for j in range(i):\n",
    "        print(\"#\", end = \" \")\n",
    "        j += 1\n",
    "    print()\n",
    "    i += 1\n",
    "\n",
    "# lower half\n",
    "i = 3\n",
    "for i in range(i-1):\n",
    "    for j in range(i+1,n):\n",
    "        print(\"#\", end = \" \")\n",
    "        j -= 1\n",
    "    print()\n",
    "    i += 1\n",
    "\n",
    "\n",
    "# #################################    \n",
    "# WHILE LOOP\n",
    "print('\\nUSING WHILE LOOP')\n",
    "print('-'*20)\n",
    "# upper half\n",
    "i = 3\n",
    "while i <= n :\n",
    "    j = 1\n",
    "    while j <= i:\n",
    "        print(\"#\", end = \" \")\n",
    "        j += 1\n",
    "    print()\n",
    "    i += 1\n",
    "\n",
    "# lower half\n",
    "i = 3\n",
    "while i <= n :\n",
    "    j = n\n",
    "    while j+1 >= i:\n",
    "        print(\"#\", end = \" \")\n",
    "        j -= 1\n",
    "    print()\n",
    "    i += 1"
   ]
  },
  {
   "cell_type": "code",
   "execution_count": 21,
   "id": "86530dbe",
   "metadata": {},
   "outputs": [],
   "source": [
    "# Display the Fibonacci series of 15 elements using the for and while loop."
   ]
  },
  {
   "cell_type": "code",
   "execution_count": 22,
   "id": "24270cc0",
   "metadata": {},
   "outputs": [
    {
     "name": "stdout",
     "output_type": "stream",
     "text": [
      "Fibonacci series:\n",
      "0 1 1 2 3 5 8 13 21 34 55 89 144 233 377 \n",
      "\n",
      "Fibonacci series: 0 1 1 2 3 5 8 13 21 34 55 89 144 233 377 "
     ]
    }
   ],
   "source": [
    "num = 15\n",
    "#num = int(input(\"\\nPlease Enter the Number: \"))\n",
    "\n",
    "#'''\n",
    "\n",
    "#Solution:1\n",
    "\n",
    "# initializing first and second values\n",
    "i = 0\n",
    "first_value = 0\n",
    "second_value = 1\n",
    "           \n",
    "print(\"Fibonacci series:\")\n",
    "while(i < num):\n",
    "    if(i <= 1):\n",
    "        next = i\n",
    "    else:\n",
    "        next = first_value + second_value\n",
    "        first_value = second_value\n",
    "        second_value = next\n",
    "    print(next, end = ' ')\n",
    "    i = i + 1\n",
    "\n",
    "#'''    \n",
    "\n",
    "def Fibonacci(n):\n",
    "    # check if input is 0 then it will print incorrect input\n",
    "    if n < 0:\n",
    "        print(\"Incorrect input!\")\n",
    "    # check if n is 0 then it will return 0\n",
    "    elif n == 0:\n",
    "        return 0\n",
    "    # check if n is 1,2  it will return 1\n",
    "    elif n == 1 or n == 2:\n",
    "        return 1\n",
    "    else:\n",
    "        return Fibonacci(n-1) + Fibonacci(n-2)\n",
    " \n",
    "print(\"\\n\\nFibonacci series:\", end = ' ')\n",
    "#for n in range(0, 9): \n",
    "#    print(Fibonacci(n), end = ' ')\n",
    "\n",
    "#Solution:2\n",
    "i = 0\n",
    "while(i < num):\n",
    "    print(Fibonacci(i), end = ' ')\n",
    "    i = i +1"
   ]
  },
  {
   "cell_type": "code",
   "execution_count": 23,
   "id": "fc448f1d",
   "metadata": {},
   "outputs": [],
   "source": [
    "# Remove 2 and add 3 to the list and replace True with False."
   ]
  },
  {
   "cell_type": "code",
   "execution_count": 24,
   "id": "553f93fc",
   "metadata": {},
   "outputs": [
    {
     "data": {
      "text/plain": [
       "[1, 3, 5, [3, 3], False]"
      ]
     },
     "execution_count": 24,
     "metadata": {},
     "output_type": "execute_result"
    }
   ],
   "source": [
    "Li = [1,3,5, [2,3], True]\n",
    "Li[3][0] = 3  # Li[3] = [3,3]\n",
    "Li[4] = False\n",
    "\n",
    "Li"
   ]
  },
  {
   "cell_type": "code",
   "execution_count": 25,
   "id": "510d6a9f",
   "metadata": {},
   "outputs": [],
   "source": [
    "# Find the intersection (common) of two sets."
   ]
  },
  {
   "cell_type": "code",
   "execution_count": 26,
   "id": "0fa2e975",
   "metadata": {},
   "outputs": [
    {
     "name": "stdout",
     "output_type": "stream",
     "text": [
      "{True}\n"
     ]
    }
   ],
   "source": [
    "S1 = {1,4,6,8}\n",
    "S2 = {True,1,2,10}\n",
    "\n",
    "result = S1.intersection(S2) # result = S1 & S2\n",
    "print(result)"
   ]
  },
  {
   "cell_type": "code",
   "execution_count": 27,
   "id": "7f9f93e0",
   "metadata": {},
   "outputs": [],
   "source": [
    "# Input a list from the user then Remove duplicates from a list and create a set and find the max number."
   ]
  },
  {
   "cell_type": "code",
   "execution_count": 28,
   "id": "303f2b1d",
   "metadata": {},
   "outputs": [
    {
     "name": "stdout",
     "output_type": "stream",
     "text": [
      "\n",
      "Please Enter the Numbers seperated by SPACE or COMMA: 1,9,3,4,5,200,5,4\n",
      "['1', '9', '3', '4', '5', '200', '5', '4']\n",
      "[1, 9, 3, 4, 5, 200, 5, 4]\n",
      "Original List:  [1, 9, 3, 4, 5, 200, 5, 4]\n",
      "List after removing duplicate elements #1:  [1, 3, 4, 5, 200, 9]\n",
      "Largest element is (using max()): 200\n"
     ]
    }
   ],
   "source": [
    "seperator = ' '\n",
    "input_string = input(\"\\nPlease Enter the Numbers seperated by SPACE or COMMA: \")\n",
    "\n",
    "input_string = input_string.strip('][')\n",
    "\n",
    "if \",\" in input_string:\n",
    "    seperator = ','\n",
    "    \n",
    "li=input_string.split(seperator)\n",
    "print(li)\n",
    "li= [eval(i) for i in li]\n",
    "print(li)\n",
    "\n",
    "#li = [1,9,3,4,5,200,5,4]\n",
    "print(\"Original List: \", li)\n",
    "\n",
    "#Solution:1 (using *set)\n",
    "res = [*set(li)]\n",
    "print(\"List after removing duplicate elements #1: \", res)\n",
    "\n",
    "#Solution:2 (list comprehension)\n",
    "#res = []\n",
    "#[res.append(int(x)) for x in li if int(x) not in res]\n",
    "#[res.append(x) for x in li if x not in res]\n",
    "#print(\"List after removing duplicate elements #2: \", res)\n",
    "\n",
    "#Solution:3 (using set)\n",
    "#res = list(set(li))\n",
    "#print(\"List after removing duplicate elements #3: \", li)\n",
    "\n",
    "#res.sort()\n",
    "#print(\"Largest element is (using sort):\", res[-1])\n",
    "\n",
    "print(\"Largest element is (using max()):\", max(res))"
   ]
  },
  {
   "cell_type": "code",
   "execution_count": 29,
   "id": "7ccf2b0a",
   "metadata": {},
   "outputs": [],
   "source": [
    "# Rename the key of a dictionary. Write a program to rename a key ‘country’ to a ‘region’ in the following dictionary."
   ]
  },
  {
   "cell_type": "code",
   "execution_count": 30,
   "id": "3ff9a848",
   "metadata": {},
   "outputs": [
    {
     "name": "stdout",
     "output_type": "stream",
     "text": [
      "{'name': 'Salman', 'age': 99, 'city': 'Toronto', 'region': 'Canada'}\n"
     ]
    }
   ],
   "source": [
    "Dict = { \"name\": \"Salman\", \"age\": 99, \"city\": \"Toronto\", \"country\": \"Canada\" }\n",
    "#Dict['region'] = Dict['country'] \n",
    "#del Dict['country']\n",
    "Dict[\"region\"] = Dict.pop(\"country\")\n",
    "\n",
    "print(Dict)"
   ]
  },
  {
   "cell_type": "code",
   "execution_count": 31,
   "id": "a4c4e575",
   "metadata": {},
   "outputs": [],
   "source": [
    "# Creating a data frame using the list. num = [10,100,300] (column name is number)"
   ]
  },
  {
   "cell_type": "code",
   "execution_count": 32,
   "id": "9d2b9d1b",
   "metadata": {},
   "outputs": [
    {
     "name": "stdout",
     "output_type": "stream",
     "text": [
      "     0\n",
      "0   10\n",
      "1  100\n",
      "2  300\n"
     ]
    }
   ],
   "source": [
    "import pandas as pd\n",
    "\n",
    "num = [10,100,300]\n",
    "df = pd.DataFrame(num)\n",
    "print(df)"
   ]
  },
  {
   "cell_type": "code",
   "execution_count": 33,
   "id": "26391f72",
   "metadata": {},
   "outputs": [],
   "source": [
    "# Change the value of a key in a given dictionary. Write a Python program to change ‘age’ to 28 in the following dictionary."
   ]
  },
  {
   "cell_type": "code",
   "execution_count": 34,
   "id": "fda61241",
   "metadata": {},
   "outputs": [
    {
     "name": "stdout",
     "output_type": "stream",
     "text": [
      "{'name': 'Salman', 'age': 28, 'city': 'Toronto', 'country': 'Canada'}\n"
     ]
    }
   ],
   "source": [
    "Dict = { \"name\": \"Salman\", \"age\":99, \"city\": \"Toronto\", \"country\": \"Canada\" }\n",
    "Dict[\"age\"] = 28\n",
    "print(Dict)"
   ]
  }
 ],
 "metadata": {
  "kernelspec": {
   "display_name": "Python 3 (ipykernel)",
   "language": "python",
   "name": "python3"
  },
  "language_info": {
   "codemirror_mode": {
    "name": "ipython",
    "version": 3
   },
   "file_extension": ".py",
   "mimetype": "text/x-python",
   "name": "python",
   "nbconvert_exporter": "python",
   "pygments_lexer": "ipython3",
   "version": "3.9.13"
  }
 },
 "nbformat": 4,
 "nbformat_minor": 5
}
